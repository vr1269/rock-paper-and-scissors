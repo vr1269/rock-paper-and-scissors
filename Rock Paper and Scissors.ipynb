{
 "cells": [
  {
   "cell_type": "code",
   "execution_count": 1,
   "id": "5cd0cabe",
   "metadata": {},
   "outputs": [
    {
     "name": "stdout",
     "output_type": "stream",
     "text": [
      "ENTER YOUR CHOISE 0 for ROCK or 1 for PAPER or 2 for SCISSORS  2\n",
      "\n",
      "    _______\n",
      "---'   ____)____\n",
      "          ______)\n",
      "       __________)\n",
      "      (____)\n",
      "---.__(___)\n",
      "\n",
      "\n",
      "    _______\n",
      "---'   ____)\n",
      "      (_____)\n",
      "      (_____)\n",
      "      (____)\n",
      "---.__(___)\n",
      "\n",
      "SCISSORS ARE DEFEATED BY  ROCK\n",
      " YOU LOSE!!\n"
     ]
    }
   ],
   "source": [
    "rock = '''\n",
    "    _______\n",
    "---'   ____)\n",
    "      (_____)\n",
    "      (_____)\n",
    "      (____)\n",
    "---.__(___)\n",
    "'''\n",
    "\n",
    "paper = '''\n",
    "    _______\n",
    "---'   ____)____\n",
    "          ______)\n",
    "          _______)\n",
    "         _______)\n",
    "---.__________)\n",
    "'''\n",
    "\n",
    "scissors = '''\n",
    "    _______\n",
    "---'   ____)____\n",
    "          ______)\n",
    "       __________)\n",
    "      (____)\n",
    "---.__(___)\n",
    "'''\n",
    "\n",
    "#Write your code below this line 👇\n",
    "import random\n",
    "choise=int(input(\"ENTER YOUR CHOISE 0 for ROCK or 1 for PAPER or 2 for SCISSORS  \"))\n",
    "if choise==0:\n",
    "  print(rock)\n",
    "elif choise==1:\n",
    "  print(paper)\n",
    "elif choise==2:\n",
    "  print(scissors)\n",
    "else:\n",
    "  print(\"WRONG CHOISE\")\n",
    "\n",
    "  \n",
    "set=[rock,paper,scissors]\n",
    "length=len(set)\n",
    "L=random.randint(0,length-1)\n",
    "print(set[L])\n",
    "if(L==choise):\n",
    "  print(\"DRAW \")\n",
    "  \n",
    "elif L==0 and choise==1:\n",
    "  print(\"PAPER DEFEATS ROCK\\n YOU WINS!!\")\n",
    "elif L==0 and choise==2:\n",
    "  print(\"SCISSORS ARE DEFEATED BY  ROCK\\n YOU LOSE!!\")\n",
    "  \n",
    "elif L==1 and choise==0:\n",
    "  print(\"ROCK IS DEFEATED BY PAPER\\n YOU LOSE!!\")\n",
    "elif L==1 and choise==2:\n",
    "  print(\"SCISSORS DEFEATS PAPER\\n YOU WINS!!\")  \n",
    "\n",
    "elif L==2 and choise==0:\n",
    "  print(\"SCISSORS ARE DEFEATED BY ROCK\\n YOU WIN!!\")\n",
    "elif L==2 and choise==1:\n",
    "  print(\"SCISSORS DEFEATS PAPER\\n YOU LOSE!!\")  "
   ]
  },
  {
   "cell_type": "code",
   "execution_count": null,
   "id": "fc5d1053",
   "metadata": {},
   "outputs": [],
   "source": []
  }
 ],
 "metadata": {
  "kernelspec": {
   "display_name": "Python 3",
   "language": "python",
   "name": "python3"
  },
  "language_info": {
   "codemirror_mode": {
    "name": "ipython",
    "version": 3
   },
   "file_extension": ".py",
   "mimetype": "text/x-python",
   "name": "python",
   "nbconvert_exporter": "python",
   "pygments_lexer": "ipython3",
   "version": "3.8.8"
  }
 },
 "nbformat": 4,
 "nbformat_minor": 5
}
